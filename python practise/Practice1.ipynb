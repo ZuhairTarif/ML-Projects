{
 "cells": [
  {
   "cell_type": "code",
   "execution_count": 119,
   "id": "9a90fbef",
   "metadata": {
    "scrolled": true
   },
   "outputs": [
    {
     "name": "stdout",
     "output_type": "stream",
     "text": [
      "arch\n",
      "['cse', 'mba', 'eee', 'cvpr', ['art', 'arch']]\n",
      "['cse', 'mba']\n",
      "[9, 6, 5, 3, 2]\n",
      "25\n",
      "['dictionary', 'list', 'tuple']\n",
      "1\n",
      "2\n",
      "False\n",
      "True\n",
      "(1, 'dictionary')\n",
      "(2, 'list')\n",
      "(3, 'tuple')\n",
      "list tuple dictionary\n",
      "['list', 'tuple', 'dictionary']\n",
      "[1, 4, 9, 16]\n",
      "[2, 4]\n"
     ]
    }
   ],
   "source": [
    "# List Practice\n",
    "#Lists are used to store multiple items in a single variable\n",
    "#tuple can't add or remove items and start with (), otherwise same as List\n",
    "courses = ['cvpr','eee','mba']\n",
    "courses.append('cse')\n",
    "courses_2 = ['art', 'arch']\n",
    "courses.insert(0, courses_2)\n",
    "courses.extend(courses_2)\n",
    "courses.remove('art')\n",
    "popped = courses.pop()\n",
    "courses.reverse()\n",
    "print (popped)\n",
    "print (courses)\n",
    "print (courses[0:2])\n",
    "s = ['list','tuple','dictionary']\n",
    "sorted_s = sorted(s)\n",
    "n = [5,6,3,2,9]\n",
    "n.sort(reverse=True)\n",
    "print (n)\n",
    "print (sum(n))\n",
    "print (sorted_s)\n",
    "print(s.index('tuple'))\n",
    "print(sorted_s.index('tuple'))\n",
    "print ('cse' in s)\n",
    "print ('list' in s)\n",
    "for item in enumerate(sorted_s, start=1):\n",
    "    print(item)\n",
    "s_str = ' '.join(s) # list to string\n",
    "print(s_str) #one long join string\n",
    "new_list = s_str.split(' ') #string to list\n",
    "print(new_list)\n",
    "#list Comprehension\n",
    "z = [1,2,3,4]\n",
    "px = [x*x for x in z]\n",
    "print(px)\n",
    "result = [x for x in z if x%2==0]\n",
    "print(result)"
   ]
  },
  {
   "cell_type": "code",
   "execution_count": 74,
   "id": "adbe370d",
   "metadata": {},
   "outputs": [
    {
     "name": "stdout",
     "output_type": "stream",
     "text": [
      "{'Salam'}\n",
      "{'Ohayo', 'Bonjour', 'Hi'}\n",
      "{'Ohayo', 'Hi', 'Salam', 'Bonjour', 'Adios', 'Goodbye', 'Au Revoir'}\n"
     ]
    }
   ],
   "source": [
    "#Set Practice\n",
    "hello = {'Hi', 'Bonjour', 'Ohayo', 'Salam' , 'Hi'} #remove duplicates\n",
    "bye = {'Goodbye', 'Au Revoir', 'Adios', 'Salam'}\n",
    "print (hello.intersection(bye))\n",
    "print (hello.difference(bye))\n",
    "print (hello.union(bye))\n"
   ]
  },
  {
   "cell_type": "code",
   "execution_count": 100,
   "id": "4af7422f",
   "metadata": {
    "scrolled": true
   },
   "outputs": [
    {
     "name": "stdout",
     "output_type": "stream",
     "text": [
      "['Math', 'Science']\n",
      "dict_keys(['Student', 'Courses'])\n",
      "dict_values(['41', ['Math', 'Science']])\n",
      "dict_items([('Student', '41'), ('Courses', ['Math', 'Science'])])\n",
      "Jane\n",
      "('Student', '41')\n",
      "('Courses', ['Math', 'Science'])\n"
     ]
    }
   ],
   "source": [
    "#Dictionary Practice\n",
    "Class = {'Student': '40', 'Courses': ['Math','Science']}\n",
    "Class.update({'Student': '41', 'Courses': ['Math','Science'], 'Cp': 'Python'})\n",
    "del Class['Cp']\n",
    "Class['name'] = 'Jane'\n",
    "Cp = Class.pop('name')\n",
    "print(Class.get('Courses'))\n",
    "print(Class.keys())\n",
    "print(Class.values())\n",
    "print(Class.items())\n",
    "print(Cp)\n",
    "for key in Class.items():\n",
    "    print(key)"
   ]
  },
  {
   "cell_type": "code",
   "execution_count": 124,
   "id": "4eb64efa",
   "metadata": {},
   "outputs": [
    {
     "name": "stdout",
     "output_type": "stream",
     "text": [
      "[6, 5, 4, 3, 2, 1]\n",
      "hair\n",
      "<zip object at 0x000001C24B62AA00>\n"
     ]
    }
   ],
   "source": [
    "#slicing\n",
    "num = [1,2,3,4,5,6]\n",
    "nums = [9,8,5,4]\n",
    "print(num[::-1])\n",
    "string = 'Zuhair'\n",
    "print(string[-4:])\n",
    "student = ['john','randy','batista']\n",
    "roll = [15,12,9]\n",
    "print(zip(student,roll))\n"
   ]
  },
  {
   "cell_type": "code",
   "execution_count": 125,
   "id": "a27c8281",
   "metadata": {},
   "outputs": [
    {
     "name": "stdout",
     "output_type": "stream",
     "text": [
      "positive\n",
      "5 None\n",
      "positive\n",
      "4 None\n",
      "positive\n",
      "3 None\n",
      "positive\n",
      "2 None\n",
      "positive\n",
      "1 None\n",
      "0\n",
      "0 None\n",
      "negative\n",
      "-1 None\n",
      "negative\n",
      "-2 None\n",
      "negative\n",
      "-3 None\n",
      "negative\n",
      "-4 None\n",
      "negative\n",
      "-5 None\n"
     ]
    }
   ],
   "source": [
    "#function\n"
   ]
  },
  {
   "cell_type": "code",
   "execution_count": null,
   "id": "70eb987d",
   "metadata": {},
   "outputs": [],
   "source": []
  }
 ],
 "metadata": {
  "kernelspec": {
   "display_name": "Python 3 (ipykernel)",
   "language": "python",
   "name": "python3"
  },
  "language_info": {
   "codemirror_mode": {
    "name": "ipython",
    "version": 3
   },
   "file_extension": ".py",
   "mimetype": "text/x-python",
   "name": "python",
   "nbconvert_exporter": "python",
   "pygments_lexer": "ipython3",
   "version": "3.11.1"
  }
 },
 "nbformat": 4,
 "nbformat_minor": 5
}
