{
 "cells": [
  {
   "cell_type": "code",
   "execution_count": 119,
   "id": "c76d9e4b",
   "metadata": {
    "scrolled": true
   },
   "outputs": [
    {
     "name": "stdout",
     "output_type": "stream",
     "text": [
      "arch\n",
      "['cse', 'mba', 'eee', 'cvpr', ['art', 'arch']]\n",
      "['cse', 'mba']\n",
      "[9, 6, 5, 3, 2]\n",
      "25\n",
      "['dictionary', 'list', 'tuple']\n",
      "1\n",
      "2\n",
      "False\n",
      "True\n",
      "(1, 'dictionary')\n",
      "(2, 'list')\n",
      "(3, 'tuple')\n",
      "list tuple dictionary\n",
      "['list', 'tuple', 'dictionary']\n",
      "[1, 4, 9, 16]\n",
      "[2, 4]\n"
     ]
    }
   ],
   "source": [
    "# List Practice\n",
    "#Lists are used to store multiple items in a single variable\n",
    "#tuple can't add or remove items and start with (), otherwise same as List\n",
    "courses = ['cvpr','eee','mba']\n",
    "courses.append('cse')\n",
    "courses_2 = ['art', 'arch']\n",
    "courses.insert(0, courses_2)\n",
    "courses.extend(courses_2)\n",
    "courses.remove('art')\n",
    "popped = courses.pop()\n",
    "courses.reverse()\n",
    "print (popped)\n",
    "print (courses)\n",
    "print (courses[0:2])\n",
    "s = ['list','tuple','dictionary']\n",
    "sorted_s = sorted(s)\n",
    "n = [5,6,3,2,9]\n",
    "n.sort(reverse=True)\n",
    "print (n)\n",
    "print (sum(n))\n",
    "print (sorted_s)\n",
    "print(s.index('tuple'))\n",
    "print(sorted_s.index('tuple'))\n",
    "print ('cse' in s)\n",
    "print ('list' in s)\n",
    "for item in enumerate(sorted_s, start=1):\n",
    "    print(item)\n",
    "s_str = ' '.join(s) # list to string\n",
    "print(s_str) #one long join string\n",
    "new_list = s_str.split(' ') #string to list\n",
    "print(new_list)\n",
    "#list Comprehension\n",
    "z = [1,2,3,4]\n",
    "px = [x*x for x in z]\n",
    "print(px)\n",
    "result = [x for x in z if x%2==0]\n",
    "print(result)"
   ]
  },
  {
   "cell_type": "code",
   "execution_count": 74,
   "id": "e3324cb8",
   "metadata": {},
   "outputs": [
    {
     "name": "stdout",
     "output_type": "stream",
     "text": [
      "{'Salam'}\n",
      "{'Ohayo', 'Bonjour', 'Hi'}\n",
      "{'Ohayo', 'Hi', 'Salam', 'Bonjour', 'Adios', 'Goodbye', 'Au Revoir'}\n"
     ]
    }
   ],
   "source": [
    "#Set Practice\n",
    "hello = {'Hi', 'Bonjour', 'Ohayo', 'Salam' , 'Hi'} #remove duplicates\n",
    "bye = {'Goodbye', 'Au Revoir', 'Adios', 'Salam'}\n",
    "print (hello.intersection(bye))\n",
    "print (hello.difference(bye))\n",
    "print (hello.union(bye))\n"
   ]
  },
  {
   "cell_type": "code",
   "execution_count": 100,
   "id": "f2096d84",
   "metadata": {
    "scrolled": true
   },
   "outputs": [
    {
     "name": "stdout",
     "output_type": "stream",
     "text": [
      "['Math', 'Science']\n",
      "dict_keys(['Student', 'Courses'])\n",
      "dict_values(['41', ['Math', 'Science']])\n",
      "dict_items([('Student', '41'), ('Courses', ['Math', 'Science'])])\n",
      "Jane\n",
      "('Student', '41')\n",
      "('Courses', ['Math', 'Science'])\n"
     ]
    }
   ],
   "source": [
    "#Dictionary Practice\n",
    "Class = {'Student': '40', 'Courses': ['Math','Science']}\n",
    "Class.update({'Student': '41', 'Courses': ['Math','Science'], 'Cp': 'Python'})\n",
    "del Class['Cp']\n",
    "Class['name'] = 'Jane'\n",
    "Cp = Class.pop('name')\n",
    "print(Class.get('Courses'))\n",
    "print(Class.keys())\n",
    "print(Class.values())\n",
    "print(Class.items())\n",
    "print(Cp)\n",
    "for key in Class.items():\n",
    "    print(key)"
   ]
  },
  {
   "cell_type": "code",
   "execution_count": 3,
   "id": "8aa9432a",
   "metadata": {},
   "outputs": [
    {
     "name": "stdout",
     "output_type": "stream",
     "text": [
      "[6, 5, 4, 3, 2, 1]\n",
      "hair\n",
      "[('john', 15), ('randy', 12), ('batista', 9)]\n"
     ]
    }
   ],
   "source": [
    "#slicing\n",
    "num = [1,2,3,4,5,6]\n",
    "nums = [9,8,5,4]\n",
    "print(num[::-1])\n",
    "string = 'Zuhair'\n",
    "print(string[-4:])\n",
    "student = ['john','randy','batista']\n",
    "roll = [15,12,9]\n",
    "print(list(zip(student,roll)))\n"
   ]
  },
  {
   "cell_type": "code",
   "execution_count": 136,
   "id": "7024ed05",
   "metadata": {},
   "outputs": [
    {
     "name": "stdout",
     "output_type": "stream",
     "text": [
      "10\n",
      "20\n",
      "30\n"
     ]
    }
   ],
   "source": [
    "#function for code reuse\n",
    "def add(a,b):\n",
    "    sum = a+b\n",
    "    print(sum)\n",
    "add(int(input()),int(input()))    "
   ]
  },
  {
   "cell_type": "code",
   "execution_count": 1,
   "id": "5df3b4fa",
   "metadata": {
    "scrolled": true
   },
   "outputs": [
    {
     "name": "stdout",
     "output_type": "stream",
     "text": [
      "[1, 4, 9, 16, 25]\n",
      "[2, 4]\n",
      "4\n",
      "5\n",
      "81\n"
     ]
    }
   ],
   "source": [
    "#map\n",
    "def sq (x):\n",
    "    return x*x\n",
    "num = [1,2,3,4,5]\n",
    "result = list(map(sq,num))\n",
    "print (result)\n",
    "rs = list(filter(lambda x : x%2==0,num))\n",
    "print(rs)\n",
    "print((lambda a,b: a*a+2*a*b+b*b)(int(input()),int(input())))"
   ]
  },
  {
   "cell_type": "code",
   "execution_count": 154,
   "id": "7c0ba3c9",
   "metadata": {},
   "outputs": [
    {
     "name": "stdout",
     "output_type": "stream",
     "text": [
      "32\n"
     ]
    }
   ],
   "source": [
    "from functools import reduce\n",
    "\n",
    "l = [ 1, 10, 20, 3, -2, 0]\n",
    "result = reduce(lambda x,y: x+y,l)\n",
    "print(result)"
   ]
  }
 ],
 "metadata": {
  "kernelspec": {
   "display_name": "Python 3 (ipykernel)",
   "language": "python",
   "name": "python3"
  },
  "language_info": {
   "codemirror_mode": {
    "name": "ipython",
    "version": 3
   },
   "file_extension": ".py",
   "mimetype": "text/x-python",
   "name": "python",
   "nbconvert_exporter": "python",
   "pygments_lexer": "ipython3",
   "version": "3.11.1"
  }
 },
 "nbformat": 4,
 "nbformat_minor": 5
}
