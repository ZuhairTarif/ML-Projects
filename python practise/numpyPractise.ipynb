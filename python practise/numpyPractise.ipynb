{
 "cells": [
  {
   "cell_type": "code",
   "execution_count": 32,
   "id": "b2a5b37d",
   "metadata": {},
   "outputs": [
    {
     "data": {
      "text/plain": [
       "array([[[ 0,  1,  2],\n",
       "        [ 3,  4,  5],\n",
       "        [ 6,  7,  8]],\n",
       "\n",
       "       [[ 9, 10, 11],\n",
       "        [12, 13, 14],\n",
       "        [15, 16, 17]],\n",
       "\n",
       "       [[18, 19, 20],\n",
       "        [21, 22, 23],\n",
       "        [24, 25, 26]]])"
      ]
     },
     "execution_count": 32,
     "metadata": {},
     "output_type": "execute_result"
    }
   ],
   "source": [
    "#Numerical Python as numpy\n",
    "import numpy as np\n",
    "myarr = np.array([[1,2,3,4],\n",
    "                 [1,2,34,4]])\n",
    "zeros = np.zeros((2,4))\n",
    "ones = np.ones((2,4))\n",
    "empty = np.empty((2,4))\n",
    "arrange = np.arange(12)\n",
    "arrange.reshape(3,4)\n",
    "linspace = np.linspace(1,6,5)\n",
    "oneDarray = np.arange(15)\n",
    "twoDarray = oneDarray.reshape(3,5)\n",
    "threeDarray = np.arange(27).reshape(3,3,3)"
   ]
  },
  {
   "cell_type": "code",
   "execution_count": 66,
   "id": "85a03a84",
   "metadata": {},
   "outputs": [
    {
     "name": "stdout",
     "output_type": "stream",
     "text": [
      "2.5\n"
     ]
    },
    {
     "data": {
      "text/plain": [
       "array([ 0.01745241, -0.98518908,  0.85994206, -0.3213861 ,  0.88604054])"
      ]
     },
     "execution_count": 66,
     "metadata": {},
     "output_type": "execute_result"
    }
   ],
   "source": [
    "np.amin(myarr)\n",
    "np.amin(myarr,axis=0)\n",
    "np.max(myarr)\n",
    "np.amax(myarr,axis=0)\n",
    "rs = np.median(myarr)\n",
    "print(rs)\n",
    "deg = np.array([0,30,45,60,90])\n",
    "np.sin(deg+np.pi/180)"
   ]
  },
  {
   "cell_type": "code",
   "execution_count": 37,
   "id": "5d72cfa8",
   "metadata": {},
   "outputs": [
    {
     "data": {
      "text/plain": [
       "2"
      ]
     },
     "execution_count": 37,
     "metadata": {},
     "output_type": "execute_result"
    }
   ],
   "source": [
    "hello = np.array([[1,2,3,4],[5,6,7,8]])\n",
    "hello.shape\n",
    "hello.ndim"
   ]
  },
  {
   "cell_type": "code",
   "execution_count": 49,
   "id": "46faee1c",
   "metadata": {},
   "outputs": [
    {
     "data": {
      "text/plain": [
       "array([1, 4, 9], dtype=int32)"
      ]
     },
     "execution_count": 49,
     "metadata": {},
     "output_type": "execute_result"
    }
   ],
   "source": [
    "arr = np.array([x for x in range(1,10)])\n",
    "arr.reshape(3,-1) #dynamic sizing\n",
    "arr.reshape(-1) #flaten the array\n",
    "a = np.array([1,2,3])\n",
    "b = np.array([4,5,6])\n",
    "np.add(a,b)\n",
    "np.subtract(b,a)\n",
    "np.multiply(a,b)\n",
    "np.divide(b,a)\n",
    "np.power(a,2)"
   ]
  },
  {
   "cell_type": "code",
   "execution_count": 55,
   "id": "0a3e3540",
   "metadata": {},
   "outputs": [
    {
     "data": {
      "text/plain": [
       "array([ 2,  3,  4,  5,  6,  0,  9, 10, 11, 12])"
      ]
     },
     "execution_count": 55,
     "metadata": {},
     "output_type": "execute_result"
    }
   ],
   "source": [
    "#conditional logic\n",
    "x = np.array([i for i in range(10)])\n",
    "np.where(x%2==0, 'Even', 'Odd')\n",
    "a = [x<5,x>5]\n",
    "b = [x++2,x++3]\n",
    "np.select(a,b)"
   ]
  },
  {
   "cell_type": "code",
   "execution_count": 78,
   "id": "39b0854c",
   "metadata": {},
   "outputs": [
    {
     "name": "stdout",
     "output_type": "stream",
     "text": [
      "1\n",
      "8\n",
      "3\n",
      "[2 3 4]\n",
      "[6 7 8]\n",
      "[[6 7 8]\n",
      " [1 2 3]]\n"
     ]
    }
   ],
   "source": [
    "#indexing and slicing numpy\n",
    "array_1d = np.array([1,2,3,4])\n",
    "array_2d = np.array([[1,2,3,4],\n",
    "                     [5,6,7,8]])\n",
    "array_3d = np.array([[[1,2,3,4],\n",
    "                      [5,6,7,8],\n",
    "                      [9,1,2,3]]])\n",
    "print(array_1d[0])\n",
    "print(array_2d[1,-1]) \n",
    "print(array_3d[0,2,-1])\n",
    "print(array_1d[1:])\n",
    "print(array_2d[1,1:])\n",
    "print(array_3d[0,1:,1:])"
   ]
  }
 ],
 "metadata": {
  "kernelspec": {
   "display_name": "Python 3 (ipykernel)",
   "language": "python",
   "name": "python3"
  },
  "language_info": {
   "codemirror_mode": {
    "name": "ipython",
    "version": 3
   },
   "file_extension": ".py",
   "mimetype": "text/x-python",
   "name": "python",
   "nbconvert_exporter": "python",
   "pygments_lexer": "ipython3",
   "version": "3.11.1"
  }
 },
 "nbformat": 4,
 "nbformat_minor": 5
}
