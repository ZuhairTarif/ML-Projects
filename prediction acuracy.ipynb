{
 "cells": [
  {
   "cell_type": "code",
   "execution_count": 56,
   "id": "70cce095",
   "metadata": {},
   "outputs": [
    {
     "data": {
      "text/plain": [
       "1.0"
      ]
     },
     "execution_count": 56,
     "metadata": {},
     "output_type": "execute_result"
    }
   ],
   "source": [
    "import pandas as pd\n",
    "from sklearn.tree import DecisionTreeClassifier\n",
    "from sklearn.model_selection import train_test_split\n",
    "from sklearn.metrics import accuracy_score\n",
    "\n",
    "\n",
    "df = pd.read_csv(\"music.csv\")\n",
    "#spliting datasets into input x and output y\n",
    "x = df.drop(columns = [\"genre\"])\n",
    "y = df[\"genre\"]\n",
    "#80% of data to train the model\n",
    "#20% of data for testing cause test_size = 0.2\n",
    "x_train,x_test,y_train,y_test = train_test_split(x,y,test_size = 0.2) \n",
    "#split and then train & test input and output\n",
    "\n",
    "\n",
    "model = DecisionTreeClassifier()\n",
    "model.fit(x_train,y_train)\n",
    "p = model.predict(x_test)\n",
    "score = accuracy_score(y_test,p)\n",
    "score"
   ]
  },
  {
   "cell_type": "code",
   "execution_count": 62,
   "id": "633a28fe",
   "metadata": {},
   "outputs": [
    {
     "name": "stderr",
     "output_type": "stream",
     "text": [
      "C:\\Users\\DanteVale\\AppData\\Local\\Programs\\Python\\Python310\\lib\\site-packages\\sklearn\\base.py:450: UserWarning: X does not have valid feature names, but DecisionTreeClassifier was fitted with feature names\n",
      "  warnings.warn(\n"
     ]
    },
    {
     "data": {
      "text/plain": [
       "array(['Dance', 'HipHop'], dtype=object)"
      ]
     },
     "execution_count": 62,
     "metadata": {},
     "output_type": "execute_result"
    }
   ],
   "source": [
    "import pandas as pd\n",
    "from sklearn.tree import DecisionTreeClassifier\n",
    "import joblib\n",
    "#persisting models\n",
    "\n",
    "\n",
    "# df = pd.read_csv(\"music.csv\")\n",
    "# #spliting datasets into input x and output y\n",
    "# x = df.drop(columns = [\"genre\"])\n",
    "# y = df[\"genre\"]\n",
    "\n",
    "\n",
    "\n",
    "# model = DecisionTreeClassifier()\n",
    "# model.fit(x_train,y_train)\n",
    "#joblib.dump(model, 'music-recommender.joblib')\n",
    "\n",
    "\n",
    "#predict without training each time\n",
    "model = joblib.load('music-recommender.joblib')\n",
    "p = model.predict([[21,0],[22,1]])\n",
    "p\n"
   ]
  },
  {
   "cell_type": "code",
   "execution_count": 63,
   "id": "244c97c1",
   "metadata": {},
   "outputs": [],
   "source": [
    "import pandas as pd\n",
    "from sklearn.tree import DecisionTreeClassifier\n",
    "from sklearn import tree\n",
    "\n",
    "\n",
    "df = pd.read_csv(\"music.csv\")\n",
    "#spliting datasets into input x and output y\n",
    "x = df.drop(columns = [\"genre\"])\n",
    "y = df[\"genre\"]\n",
    "model = DecisionTreeClassifier()\n",
    "model.fit(x.values,y)\n",
    "tree.export_graphviz(model, out_file='music-recommender.dot', feature_names = ['age','gender'],class_names = sorted(y.unique()),label='all',rounded=True,filled= True)"
   ]
  },
  {
   "cell_type": "code",
   "execution_count": null,
   "id": "9f94ad7f",
   "metadata": {},
   "outputs": [],
   "source": []
  }
 ],
 "metadata": {
  "kernelspec": {
   "display_name": "Python 3 (ipykernel)",
   "language": "python",
   "name": "python3"
  },
  "language_info": {
   "codemirror_mode": {
    "name": "ipython",
    "version": 3
   },
   "file_extension": ".py",
   "mimetype": "text/x-python",
   "name": "python",
   "nbconvert_exporter": "python",
   "pygments_lexer": "ipython3",
   "version": "3.10.5"
  }
 },
 "nbformat": 4,
 "nbformat_minor": 5
}
